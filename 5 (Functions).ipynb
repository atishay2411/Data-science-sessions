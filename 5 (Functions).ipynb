{
 "cells": [
  {
   "cell_type": "code",
   "execution_count": 1,
   "id": "22decc96",
   "metadata": {},
   "outputs": [],
   "source": [
    "def function_name():\n",
    "    print('Hello')"
   ]
  },
  {
   "cell_type": "code",
   "execution_count": 2,
   "id": "58276e81",
   "metadata": {},
   "outputs": [
    {
     "name": "stdout",
     "output_type": "stream",
     "text": [
      "Hello\n"
     ]
    }
   ],
   "source": [
    "function_name()"
   ]
  },
  {
   "cell_type": "code",
   "execution_count": 3,
   "id": "277f230d",
   "metadata": {},
   "outputs": [],
   "source": [
    "def add(num1, num2):\n",
    "    print(num1 + num2)"
   ]
  },
  {
   "cell_type": "code",
   "execution_count": 4,
   "id": "9c1a0220",
   "metadata": {},
   "outputs": [
    {
     "name": "stdout",
     "output_type": "stream",
     "text": [
      "7\n"
     ]
    }
   ],
   "source": [
    "add(2,5)"
   ]
  },
  {
   "cell_type": "code",
   "execution_count": 5,
   "id": "1280a507",
   "metadata": {},
   "outputs": [],
   "source": [
    "def add(num1, num2):\n",
    "    return num1 + num2"
   ]
  },
  {
   "cell_type": "code",
   "execution_count": 6,
   "id": "433bc145",
   "metadata": {},
   "outputs": [
    {
     "data": {
      "text/plain": [
       "7"
      ]
     },
     "execution_count": 6,
     "metadata": {},
     "output_type": "execute_result"
    }
   ],
   "source": [
    "c = add(2,5)\n",
    "c"
   ]
  },
  {
   "cell_type": "code",
   "execution_count": 7,
   "id": "6b0e137c",
   "metadata": {},
   "outputs": [
    {
     "data": {
      "text/plain": [
       "9"
      ]
     },
     "execution_count": 7,
     "metadata": {},
     "output_type": "execute_result"
    }
   ],
   "source": [
    "add(2,7)"
   ]
  },
  {
   "cell_type": "code",
   "execution_count": 8,
   "id": "016efd26",
   "metadata": {},
   "outputs": [],
   "source": [
    "def multiply(num1, num2):\n",
    "    return num1 * num2"
   ]
  },
  {
   "cell_type": "code",
   "execution_count": 10,
   "id": "7c8f3bce",
   "metadata": {},
   "outputs": [
    {
     "data": {
      "text/plain": [
       "14"
      ]
     },
     "execution_count": 10,
     "metadata": {},
     "output_type": "execute_result"
    }
   ],
   "source": [
    "# (a + b) * c\n",
    "a = 2\n",
    "b = 5\n",
    "c = 2\n",
    "x = add(a,b)\n",
    "y = multiply(x,c)\n",
    "y"
   ]
  },
  {
   "cell_type": "code",
   "execution_count": 11,
   "id": "dc4af866",
   "metadata": {},
   "outputs": [],
   "source": [
    "y = multiply(add(a,b),c)"
   ]
  },
  {
   "cell_type": "code",
   "execution_count": 12,
   "id": "2107080d",
   "metadata": {},
   "outputs": [
    {
     "data": {
      "text/plain": [
       "14"
      ]
     },
     "execution_count": 12,
     "metadata": {},
     "output_type": "execute_result"
    }
   ],
   "source": [
    "y"
   ]
  },
  {
   "cell_type": "code",
   "execution_count": 21,
   "id": "feaeaf72",
   "metadata": {},
   "outputs": [],
   "source": [
    "def divide(num1 , num2 = 1):\n",
    "    return num1 / num2"
   ]
  },
  {
   "cell_type": "code",
   "execution_count": 23,
   "id": "3a52fa97",
   "metadata": {},
   "outputs": [
    {
     "data": {
      "text/plain": [
       "2.5"
      ]
     },
     "execution_count": 23,
     "metadata": {},
     "output_type": "execute_result"
    }
   ],
   "source": [
    "x = divide(5, 2)\n",
    "x"
   ]
  },
  {
   "cell_type": "code",
   "execution_count": 40,
   "id": "593a9db6",
   "metadata": {},
   "outputs": [],
   "source": [
    "def details(name, age):\n",
    "    print( \"Name : \", name, \"Age: \", age)"
   ]
  },
  {
   "cell_type": "code",
   "execution_count": 41,
   "id": "6b0bf725",
   "metadata": {},
   "outputs": [
    {
     "name": "stdout",
     "output_type": "stream",
     "text": [
      "Name :  John Wick Age:  25\n"
     ]
    }
   ],
   "source": [
    "details(name = 'John Wick', age = 25)"
   ]
  },
  {
   "cell_type": "code",
   "execution_count": 42,
   "id": "38bc3be9",
   "metadata": {},
   "outputs": [
    {
     "name": "stdout",
     "output_type": "stream",
     "text": [
      "Name :  John Wick Age:  25\n"
     ]
    }
   ],
   "source": [
    "details( age = 25, name = 'John Wick')"
   ]
  },
  {
   "cell_type": "code",
   "execution_count": 43,
   "id": "7397e9a1",
   "metadata": {},
   "outputs": [
    {
     "name": "stdout",
     "output_type": "stream",
     "text": [
      "Name :  John Wick Age:  25\n"
     ]
    }
   ],
   "source": [
    "details('John Wick', age = 25)"
   ]
  },
  {
   "cell_type": "code",
   "execution_count": 45,
   "id": "50efc96d",
   "metadata": {},
   "outputs": [
    {
     "ename": "SyntaxError",
     "evalue": "positional argument follows keyword argument (<ipython-input-45-1138c6c815e8>, line 1)",
     "output_type": "error",
     "traceback": [
      "\u001b[1;36m  File \u001b[1;32m\"<ipython-input-45-1138c6c815e8>\"\u001b[1;36m, line \u001b[1;32m1\u001b[0m\n\u001b[1;33m    details(name = 'John Wick', age )\u001b[0m\n\u001b[1;37m                                ^\u001b[0m\n\u001b[1;31mSyntaxError\u001b[0m\u001b[1;31m:\u001b[0m positional argument follows keyword argument\n"
     ]
    }
   ],
   "source": [
    "details(name = 'John Wick', age )"
   ]
  },
  {
   "cell_type": "code",
   "execution_count": 34,
   "id": "6898fd9d",
   "metadata": {},
   "outputs": [],
   "source": [
    "def add(num1, num2):\n",
    "    return num1 + num2"
   ]
  },
  {
   "cell_type": "code",
   "execution_count": 35,
   "id": "ac614eff",
   "metadata": {},
   "outputs": [],
   "source": [
    "def add(num1, num2, num3):\n",
    "    return num1 + num2 + num3"
   ]
  },
  {
   "cell_type": "code",
   "execution_count": 36,
   "id": "3b4238a7",
   "metadata": {},
   "outputs": [],
   "source": [
    "def add(num1, num2, num3, num4):\n",
    "    return num1 + num2 + num3 + num4"
   ]
  },
  {
   "cell_type": "markdown",
   "id": "93bc7442",
   "metadata": {},
   "source": [
    "# args and kwargs"
   ]
  },
  {
   "cell_type": "code",
   "execution_count": 46,
   "id": "87fdaa25",
   "metadata": {},
   "outputs": [],
   "source": [
    "def add(*args):\n",
    "    return sum(args)"
   ]
  },
  {
   "cell_type": "code",
   "execution_count": 47,
   "id": "da322c61",
   "metadata": {},
   "outputs": [
    {
     "data": {
      "text/plain": [
       "3"
      ]
     },
     "execution_count": 47,
     "metadata": {},
     "output_type": "execute_result"
    }
   ],
   "source": [
    "add(1,2)"
   ]
  },
  {
   "cell_type": "code",
   "execution_count": 48,
   "id": "0a2a1208",
   "metadata": {},
   "outputs": [
    {
     "data": {
      "text/plain": [
       "14"
      ]
     },
     "execution_count": 48,
     "metadata": {},
     "output_type": "execute_result"
    }
   ],
   "source": [
    "add(2,3,4,5)"
   ]
  },
  {
   "cell_type": "code",
   "execution_count": 49,
   "id": "c73aadf9",
   "metadata": {},
   "outputs": [
    {
     "data": {
      "text/plain": [
       "147"
      ]
     },
     "execution_count": 49,
     "metadata": {},
     "output_type": "execute_result"
    }
   ],
   "source": [
    "add(2,3,4,5,6,7,9,45,34,32)"
   ]
  },
  {
   "cell_type": "code",
   "execution_count": 68,
   "id": "97d55a8a",
   "metadata": {},
   "outputs": [],
   "source": [
    "def add(*Pinaki):\n",
    "    print(Pinaki)\n",
    "    return sum(Pinaki)"
   ]
  },
  {
   "cell_type": "code",
   "execution_count": 69,
   "id": "6a83ad38",
   "metadata": {},
   "outputs": [
    {
     "name": "stdout",
     "output_type": "stream",
     "text": [
      "10\n"
     ]
    },
    {
     "data": {
      "text/plain": [
       "147"
      ]
     },
     "execution_count": 69,
     "metadata": {},
     "output_type": "execute_result"
    }
   ],
   "source": [
    "add(2,3,4,5,6,7,9,45,34,32)"
   ]
  },
  {
   "cell_type": "code",
   "execution_count": 52,
   "id": "d9802e06",
   "metadata": {},
   "outputs": [],
   "source": [
    "def details(**kwargs):\n",
    "    print(kwargs)"
   ]
  },
  {
   "cell_type": "code",
   "execution_count": 53,
   "id": "e4aa99d1",
   "metadata": {},
   "outputs": [
    {
     "name": "stdout",
     "output_type": "stream",
     "text": [
      "{'name': 'John'}\n"
     ]
    }
   ],
   "source": [
    "details(name = 'John')"
   ]
  },
  {
   "cell_type": "code",
   "execution_count": 56,
   "id": "45a98038",
   "metadata": {},
   "outputs": [
    {
     "name": "stdout",
     "output_type": "stream",
     "text": [
      "{'name': 'John', 'age': 25, 'Gender': 'Male'}\n"
     ]
    }
   ],
   "source": [
    "details(name = 'John', age = 25, Gender = 'Male')"
   ]
  },
  {
   "cell_type": "code",
   "execution_count": 57,
   "id": "7417e353",
   "metadata": {},
   "outputs": [],
   "source": [
    "def details(*args, **kwargs):\n",
    "    print(args)\n",
    "    print(kwargs)"
   ]
  },
  {
   "cell_type": "code",
   "execution_count": 58,
   "id": "a64b8fc5",
   "metadata": {},
   "outputs": [
    {
     "name": "stdout",
     "output_type": "stream",
     "text": [
      "(90, 90)\n",
      "{'name': 'John'}\n"
     ]
    }
   ],
   "source": [
    "details(90,90, name = 'John')"
   ]
  },
  {
   "cell_type": "code",
   "execution_count": 60,
   "id": "8f8b9424",
   "metadata": {},
   "outputs": [
    {
     "name": "stdout",
     "output_type": "stream",
     "text": [
      "(90, 90, 80, 70, 75, 'xyz')\n",
      "{'name': 'John', 'age': 26, 'Roll_no': 420}\n"
     ]
    }
   ],
   "source": [
    "details(90,90,80,70,75, name = 'John', age = 26, Roll_no = 420)"
   ]
  },
  {
   "cell_type": "code",
   "execution_count": 61,
   "id": "0caa470b",
   "metadata": {},
   "outputs": [
    {
     "name": "stdout",
     "output_type": "stream",
     "text": [
      "Enter value-1 : 4\n",
      "Enter value-2 : 5\n",
      "Enter value-3 : 6\n"
     ]
    }
   ],
   "source": [
    "a = int(input(\"Enter value-1 : \"))\n",
    "b = int(input(\"Enter value-2 : \"))\n",
    "c = int(input(\"Enter value-3 : \"))\n",
    "def largest(num1,num2,num3):\n",
    "    if(num1>=num2 and num1>=num3):\n",
    "        return num1\n",
    "    elif (num2>=num3 and num2>=num1):\n",
    "        return num2\n",
    "    else:\n",
    "        return num3"
   ]
  },
  {
   "cell_type": "code",
   "execution_count": 62,
   "id": "cc3ec970",
   "metadata": {},
   "outputs": [
    {
     "data": {
      "text/plain": [
       "6"
      ]
     },
     "execution_count": 62,
     "metadata": {},
     "output_type": "execute_result"
    }
   ],
   "source": [
    "largest(a,b,c)"
   ]
  },
  {
   "cell_type": "code",
   "execution_count": null,
   "id": "3d00a585",
   "metadata": {},
   "outputs": [],
   "source": [
    "20"
   ]
  },
  {
   "cell_type": "code",
   "execution_count": 70,
   "id": "b5eaedce",
   "metadata": {},
   "outputs": [],
   "source": [
    "def prime(n):\n",
    "    if n==0 or n==1:\n",
    "        return False\n",
    "\n",
    "    else:\n",
    "        for i in range(2,int(n**0.5)+1):\n",
    "            if n%i==0:\n",
    "                return False\n",
    "                break\n",
    "        else:\n",
    "            return True"
   ]
  },
  {
   "cell_type": "code",
   "execution_count": 71,
   "id": "e9f47a8b",
   "metadata": {},
   "outputs": [],
   "source": [
    "def primeFactors(n):\n",
    "    pfact = []\n",
    "    i = 2\n",
    "    while n>1:\n",
    "        if n % i == 0 and prime(i):\n",
    "            pfact.append(i)\n",
    "            n = n//i\n",
    "        else : \n",
    "            i+=1\n",
    "    return pfact"
   ]
  },
  {
   "cell_type": "code",
   "execution_count": 76,
   "id": "e602cd87",
   "metadata": {},
   "outputs": [
    {
     "data": {
      "text/plain": [
       "[3, 3, 11]"
      ]
     },
     "execution_count": 76,
     "metadata": {},
     "output_type": "execute_result"
    }
   ],
   "source": [
    "primeFactors(99)"
   ]
  },
  {
   "cell_type": "markdown",
   "id": "45dad4b6",
   "metadata": {},
   "source": [
    "## map function\n",
    "\n",
    "The **map** function allows you to \"map\" a function to an iterable object. That is to say you can quickly call the same function to every item in an iterable, such as a list. For example:"
   ]
  },
  {
   "cell_type": "code",
   "execution_count": 77,
   "id": "785b708f",
   "metadata": {},
   "outputs": [
    {
     "data": {
      "text/plain": [
       "function"
      ]
     },
     "execution_count": 77,
     "metadata": {},
     "output_type": "execute_result"
    }
   ],
   "source": [
    "def square(num):\n",
    "    return num**2\n",
    "type(square)"
   ]
  },
  {
   "cell_type": "code",
   "execution_count": 78,
   "id": "9b4e4063",
   "metadata": {},
   "outputs": [],
   "source": [
    "my_nums = [1,2,3,4,5]"
   ]
  },
  {
   "cell_type": "code",
   "execution_count": 79,
   "id": "a2fb44d5",
   "metadata": {},
   "outputs": [
    {
     "name": "stdout",
     "output_type": "stream",
     "text": [
      "1 4 9 16 25 "
     ]
    }
   ],
   "source": [
    "for i in my_nums:\n",
    "    print(square(i), end = ' ')"
   ]
  },
  {
   "cell_type": "code",
   "execution_count": 81,
   "id": "3d92af21",
   "metadata": {},
   "outputs": [
    {
     "data": {
      "text/plain": [
       "[1, 4, 9, 16, 25]"
      ]
     },
     "execution_count": 81,
     "metadata": {},
     "output_type": "execute_result"
    }
   ],
   "source": [
    "list(map(square, my_nums))"
   ]
  },
  {
   "cell_type": "code",
   "execution_count": 82,
   "id": "8246e0a3",
   "metadata": {},
   "outputs": [],
   "source": [
    "def cut(s):\n",
    "    return s[0]"
   ]
  },
  {
   "cell_type": "code",
   "execution_count": 83,
   "id": "54c094ee",
   "metadata": {},
   "outputs": [],
   "source": [
    "l = ['abc', 'xyz', 'pqr']"
   ]
  },
  {
   "cell_type": "code",
   "execution_count": 84,
   "id": "c13a7f3e",
   "metadata": {},
   "outputs": [
    {
     "data": {
      "text/plain": [
       "['a', 'x', 'p']"
      ]
     },
     "execution_count": 84,
     "metadata": {},
     "output_type": "execute_result"
    }
   ],
   "source": [
    "list(map(cut, l))"
   ]
  },
  {
   "cell_type": "markdown",
   "id": "5cc07a6c",
   "metadata": {},
   "source": [
    "## filter function\n",
    "\n",
    "The filter function returns an iterator yielding those items of iterable for which function(item)\n",
    "is true. Meaning you need to filter by a function that returns either True or False. Then passing that into filter (along with your iterable) and you will get back only the results that would return True when passed to the function."
   ]
  },
  {
   "cell_type": "code",
   "execution_count": 85,
   "id": "880f4106",
   "metadata": {},
   "outputs": [],
   "source": [
    "def prime(n):\n",
    "    if n==0 or n==1:\n",
    "        return False\n",
    "\n",
    "    else:\n",
    "        for i in range(2,int(n**0.5)+1):\n",
    "            if n%i==0:\n",
    "                return False\n",
    "                break\n",
    "        else:\n",
    "            return True"
   ]
  },
  {
   "cell_type": "code",
   "execution_count": 86,
   "id": "ecd758fb",
   "metadata": {},
   "outputs": [],
   "source": [
    "l = [1,2,3,4,5,6,7,8,9]"
   ]
  },
  {
   "cell_type": "code",
   "execution_count": 87,
   "id": "6ab10477",
   "metadata": {},
   "outputs": [
    {
     "data": {
      "text/plain": [
       "[2, 3, 5, 7]"
      ]
     },
     "execution_count": 87,
     "metadata": {},
     "output_type": "execute_result"
    }
   ],
   "source": [
    "list(filter(prime,l))"
   ]
  },
  {
   "cell_type": "code",
   "execution_count": 88,
   "id": "d8dd46ee",
   "metadata": {},
   "outputs": [],
   "source": [
    "def check_even(n):\n",
    "    return n % 2 == 0"
   ]
  },
  {
   "cell_type": "code",
   "execution_count": 89,
   "id": "5517e701",
   "metadata": {},
   "outputs": [
    {
     "data": {
      "text/plain": [
       "[2, 4, 6, 8]"
      ]
     },
     "execution_count": 89,
     "metadata": {},
     "output_type": "execute_result"
    }
   ],
   "source": [
    "list(filter(check_even,l))"
   ]
  },
  {
   "cell_type": "markdown",
   "id": "400c2f37",
   "metadata": {},
   "source": [
    "## lambda expression\n",
    "\n",
    "One of Pythons most useful (and for beginners, confusing) tools is the lambda expression. lambda expressions allow us to create \"anonymous\" functions. This basically means we can quickly make ad-hoc functions without needing to properly define a function using def.\n",
    "\n",
    "Function objects returned by running lambda expressions work exactly the same as those created and assigned by defs. There is key difference that makes lambda useful in specialized roles:\n",
    "\n",
    "**lambda's body is a single expression, not a block of statements.**\n",
    "\n",
    "* The lambda's body is similar to what we would put in a def body's return statement. We simply type the result as an expression instead of explicitly returning it. Because it is limited to an expression, a lambda is less general that a def. We can only squeeze design, to limit program nesting. lambda is designed for coding simple functions, and def handles the larger tasks."
   ]
  },
  {
   "cell_type": "code",
   "execution_count": 1,
   "id": "8962f7f7",
   "metadata": {},
   "outputs": [
    {
     "data": {
      "text/plain": [
       "<function __main__.<lambda>(num)>"
      ]
     },
     "execution_count": 1,
     "metadata": {},
     "output_type": "execute_result"
    }
   ],
   "source": [
    "lambda num : num ** 2"
   ]
  },
  {
   "cell_type": "code",
   "execution_count": 2,
   "id": "9d3f739a",
   "metadata": {},
   "outputs": [],
   "source": [
    "a = lambda num : num ** 2"
   ]
  },
  {
   "cell_type": "code",
   "execution_count": 3,
   "id": "24b683ee",
   "metadata": {},
   "outputs": [
    {
     "data": {
      "text/plain": [
       "25"
      ]
     },
     "execution_count": 3,
     "metadata": {},
     "output_type": "execute_result"
    }
   ],
   "source": [
    "a(5)"
   ]
  },
  {
   "cell_type": "code",
   "execution_count": 4,
   "id": "c3346279",
   "metadata": {},
   "outputs": [
    {
     "data": {
      "text/plain": [
       "49"
      ]
     },
     "execution_count": 4,
     "metadata": {},
     "output_type": "execute_result"
    }
   ],
   "source": [
    "a(7)"
   ]
  },
  {
   "cell_type": "code",
   "execution_count": 5,
   "id": "12fe0e37",
   "metadata": {},
   "outputs": [],
   "source": [
    "b = lambda num1, num2,num3 : num1 + num2 + num3"
   ]
  },
  {
   "cell_type": "code",
   "execution_count": 6,
   "id": "9eb9af21",
   "metadata": {},
   "outputs": [
    {
     "data": {
      "text/plain": [
       "6"
      ]
     },
     "execution_count": 6,
     "metadata": {},
     "output_type": "execute_result"
    }
   ],
   "source": [
    "b(1,2,3)"
   ]
  },
  {
   "cell_type": "code",
   "execution_count": 7,
   "id": "bacd2dee",
   "metadata": {},
   "outputs": [],
   "source": [
    "c = lambda *numbers : sum(numbers)"
   ]
  },
  {
   "cell_type": "code",
   "execution_count": 15,
   "id": "0be503c8",
   "metadata": {},
   "outputs": [
    {
     "name": "stdout",
     "output_type": "stream",
     "text": [
      "{'name': 'John', 'age': 25}\n"
     ]
    }
   ],
   "source": [
    "a = lambda **details : print(details)\n",
    "a(name = 'John', age = 25)"
   ]
  },
  {
   "cell_type": "code",
   "execution_count": 8,
   "id": "215e9a95",
   "metadata": {},
   "outputs": [
    {
     "data": {
      "text/plain": [
       "3"
      ]
     },
     "execution_count": 8,
     "metadata": {},
     "output_type": "execute_result"
    }
   ],
   "source": [
    "c(1,2)"
   ]
  },
  {
   "cell_type": "code",
   "execution_count": 9,
   "id": "54945f0a",
   "metadata": {},
   "outputs": [
    {
     "data": {
      "text/plain": [
       "6"
      ]
     },
     "execution_count": 9,
     "metadata": {},
     "output_type": "execute_result"
    }
   ],
   "source": [
    "c(1,2,3)"
   ]
  },
  {
   "cell_type": "code",
   "execution_count": 10,
   "id": "678cf10f",
   "metadata": {},
   "outputs": [],
   "source": [
    "l1 = [1,2,3,4,5,6,7,8,9]"
   ]
  },
  {
   "cell_type": "code",
   "execution_count": 12,
   "id": "57a35bd5",
   "metadata": {},
   "outputs": [
    {
     "data": {
      "text/plain": [
       "[1, 4, 9, 16, 25, 36, 49, 64, 81]"
      ]
     },
     "execution_count": 12,
     "metadata": {},
     "output_type": "execute_result"
    }
   ],
   "source": [
    "list(map(lambda num : num ** 2, l1))"
   ]
  },
  {
   "cell_type": "code",
   "execution_count": 14,
   "id": "44df2513",
   "metadata": {},
   "outputs": [
    {
     "data": {
      "text/plain": [
       "[2, 4, 6, 8]"
      ]
     },
     "execution_count": 14,
     "metadata": {},
     "output_type": "execute_result"
    }
   ],
   "source": [
    "list(filter(lambda num : num % 2 == 0, l1))"
   ]
  },
  {
   "cell_type": "code",
   "execution_count": 20,
   "id": "98adcb25",
   "metadata": {},
   "outputs": [],
   "source": [
    "l = ['Hello i am john wick',\n",
    "    'i love killing people',\n",
    "    'I am crime master Gogo']"
   ]
  },
  {
   "cell_type": "code",
   "execution_count": 17,
   "id": "c4b710e8",
   "metadata": {},
   "outputs": [],
   "source": [
    "def first_word(s):\n",
    "    return s.split()[0]"
   ]
  },
  {
   "cell_type": "code",
   "execution_count": 18,
   "id": "f1cc4250",
   "metadata": {},
   "outputs": [
    {
     "data": {
      "text/plain": [
       "'I'"
      ]
     },
     "execution_count": 18,
     "metadata": {},
     "output_type": "execute_result"
    }
   ],
   "source": [
    "first_word('I am crime master Gogo')"
   ]
  },
  {
   "cell_type": "code",
   "execution_count": 21,
   "id": "fedbb492",
   "metadata": {},
   "outputs": [
    {
     "data": {
      "text/plain": [
       "['Hello', 'i', 'I']"
      ]
     },
     "execution_count": 21,
     "metadata": {},
     "output_type": "execute_result"
    }
   ],
   "source": [
    "list(map(first_word, l))"
   ]
  },
  {
   "cell_type": "code",
   "execution_count": 22,
   "id": "f2293baa",
   "metadata": {},
   "outputs": [
    {
     "data": {
      "text/plain": [
       "['Hello', 'i', 'I']"
      ]
     },
     "execution_count": 22,
     "metadata": {},
     "output_type": "execute_result"
    }
   ],
   "source": [
    "list(map(lambda s : s.split()[0], l))"
   ]
  },
  {
   "cell_type": "code",
   "execution_count": null,
   "id": "088ebd1b",
   "metadata": {},
   "outputs": [],
   "source": []
  }
 ],
 "metadata": {
  "kernelspec": {
   "display_name": "Python 3",
   "language": "python",
   "name": "python3"
  },
  "language_info": {
   "codemirror_mode": {
    "name": "ipython",
    "version": 3
   },
   "file_extension": ".py",
   "mimetype": "text/x-python",
   "name": "python",
   "nbconvert_exporter": "python",
   "pygments_lexer": "ipython3",
   "version": "3.8.5"
  }
 },
 "nbformat": 4,
 "nbformat_minor": 5
}
