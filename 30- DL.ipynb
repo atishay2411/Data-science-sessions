{
 "cells": [
  {
   "cell_type": "code",
   "execution_count": 1,
   "metadata": {
    "colab": {
     "base_uri": "https://localhost:8080/"
    },
    "id": "hB1jfrDhivUm",
    "outputId": "91d6880b-b8b6-421e-b556-609faede0cca"
   },
   "outputs": [
    {
     "name": "stdout",
     "output_type": "stream",
     "text": [
      "--2021-07-30 13:11:50--  https://storage.googleapis.com/mledu-datasets/cats_and_dogs_filtered.zip\n",
      "Resolving storage.googleapis.com (storage.googleapis.com)... 142.251.5.128, 74.125.206.128, 64.233.184.128, ...\n",
      "Connecting to storage.googleapis.com (storage.googleapis.com)|142.251.5.128|:443... connected.\n",
      "HTTP request sent, awaiting response... 200 OK\n",
      "Length: 68606236 (65M) [application/zip]\n",
      "Saving to: ‘/tmp/cats_and_dogs_filtered.zip’\n",
      "\n",
      "/tmp/cats_and_dogs_ 100%[===================>]  65.43M  57.1MB/s    in 1.1s    \n",
      "\n",
      "2021-07-30 13:11:52 (57.1 MB/s) - ‘/tmp/cats_and_dogs_filtered.zip’ saved [68606236/68606236]\n",
      "\n"
     ]
    }
   ],
   "source": [
    "!wget --no-check-certificate \\\n",
    "    https://storage.googleapis.com/mledu-datasets/cats_and_dogs_filtered.zip \\\n",
    "    -O /tmp/cats_and_dogs_filtered.zip"
   ]
  },
  {
   "cell_type": "code",
   "execution_count": 2,
   "metadata": {
    "id": "06DG94IHlD0Q"
   },
   "outputs": [],
   "source": [
    "import os\n",
    "import zipfile\n",
    "import tensorflow as tf\n",
    "from tensorflow.keras.optimizers import RMSprop\n",
    "from tensorflow.keras.preprocessing.image import ImageDataGenerator"
   ]
  },
  {
   "cell_type": "code",
   "execution_count": 4,
   "metadata": {
    "id": "N45T3MYVlp5B"
   },
   "outputs": [],
   "source": [
    "local_zip = '/tmp/cats_and_dogs_filtered.zip'\n",
    "zip_ref = zipfile.ZipFile(local_zip,'r')\n",
    "zip_ref.extractall('/tmp')\n",
    "zip_ref.close()\n",
    "\n",
    "base_dir = '/tmp/cats_and_dogs_filtered'\n",
    "train_dir = os.path.join(base_dir,'train')\n",
    "validation_dir = os.path.join(base_dir,'validation')"
   ]
  },
  {
   "cell_type": "code",
   "execution_count": 5,
   "metadata": {
    "id": "hI-0fDQGm6zs"
   },
   "outputs": [],
   "source": [
    "train_cats_dir = os.path.join(train_dir,'cats')\n",
    "train_dogs_dir = os.path.join(train_dir,'dogs')\n",
    "\n",
    "validation_cats_dir = os.path.join(validation_dir,'cats')\n",
    "validation_dogs_dir = os.path.join(validation_dir,'dogs')"
   ]
  },
  {
   "cell_type": "code",
   "execution_count": 6,
   "metadata": {
    "id": "BcMIvNrAnp_x"
   },
   "outputs": [],
   "source": [
    "train_datagen = ImageDataGenerator(rescale = 1./255)\n",
    "test_datagen = ImageDataGenerator(rescale = 1./255)"
   ]
  },
  {
   "cell_type": "code",
   "execution_count": 8,
   "metadata": {
    "colab": {
     "base_uri": "https://localhost:8080/"
    },
    "id": "GEk9dNnsoK11",
    "outputId": "288857ba-999e-4e23-b02f-347f2cce40d9"
   },
   "outputs": [
    {
     "name": "stdout",
     "output_type": "stream",
     "text": [
      "Found 2000 images belonging to 2 classes.\n",
      "Found 1000 images belonging to 2 classes.\n"
     ]
    }
   ],
   "source": [
    "train_generator = train_datagen.flow_from_directory(\n",
    "    train_dir,\n",
    "    target_size = (150,150),\n",
    "    batch_size = 20,\n",
    "    class_mode = 'binary'\n",
    ")\n",
    "\n",
    "validation_generator = test_datagen.flow_from_directory(\n",
    "    validation_dir,\n",
    "    target_size = (150,150),\n",
    "    batch_size = 20,\n",
    "    class_mode = 'binary'\n",
    ")"
   ]
  },
  {
   "cell_type": "code",
   "execution_count": 15,
   "metadata": {
    "id": "hMgYuxIKpIw0"
   },
   "outputs": [],
   "source": [
    "model1 = tf.keras.models.Sequential([\n",
    "                tf.keras.layers.Flatten(input_shape = (150,150,3)),\n",
    "                tf.keras.layers.Dense(256,activation = tf.nn.relu),\n",
    "                tf.keras.layers.Dropout(0.5),\n",
    "                tf.keras.layers.Dense(128,activation = tf.nn.relu),\n",
    "                tf.keras.layers.Dense(1,activation = tf.nn.sigmoid)\n",
    "])"
   ]
  },
  {
   "cell_type": "code",
   "execution_count": 16,
   "metadata": {
    "colab": {
     "base_uri": "https://localhost:8080/"
    },
    "id": "hFMUSL55rqBa",
    "outputId": "74c7d33d-067b-4dfe-a7a9-0355477f24d8"
   },
   "outputs": [
    {
     "name": "stdout",
     "output_type": "stream",
     "text": [
      "Model: \"sequential_1\"\n",
      "_________________________________________________________________\n",
      "Layer (type)                 Output Shape              Param #   \n",
      "=================================================================\n",
      "flatten_1 (Flatten)          (None, 67500)             0         \n",
      "_________________________________________________________________\n",
      "dense_4 (Dense)              (None, 256)               17280256  \n",
      "_________________________________________________________________\n",
      "dropout_2 (Dropout)          (None, 256)               0         \n",
      "_________________________________________________________________\n",
      "dense_5 (Dense)              (None, 128)               32896     \n",
      "_________________________________________________________________\n",
      "dense_6 (Dense)              (None, 1)                 129       \n",
      "=================================================================\n",
      "Total params: 17,313,281\n",
      "Trainable params: 17,313,281\n",
      "Non-trainable params: 0\n",
      "_________________________________________________________________\n"
     ]
    }
   ],
   "source": [
    "model1.summary()"
   ]
  },
  {
   "cell_type": "code",
   "execution_count": 17,
   "metadata": {
    "id": "neQMaRS2rrr9"
   },
   "outputs": [],
   "source": [
    "model1.compile(loss = 'binary_crossentropy',\n",
    "               optimizer =RMSprop(1e-4),\n",
    "               metrics = ['accuracy'])"
   ]
  },
  {
   "cell_type": "code",
   "execution_count": 18,
   "metadata": {
    "colab": {
     "base_uri": "https://localhost:8080/"
    },
    "id": "tynrYAW9t3-o",
    "outputId": "473344b2-df94-43c4-d767-9df8b2e6ee9e"
   },
   "outputs": [
    {
     "name": "stdout",
     "output_type": "stream",
     "text": [
      "Epoch 1/30\n",
      "100/100 [==============================] - 11s 101ms/step - loss: 7.4463 - accuracy: 0.5050 - val_loss: 0.6938 - val_accuracy: 0.4970\n",
      "Epoch 2/30\n",
      "100/100 [==============================] - 10s 102ms/step - loss: 0.8158 - accuracy: 0.5015 - val_loss: 0.6931 - val_accuracy: 0.4990\n",
      "Epoch 3/30\n",
      "100/100 [==============================] - 10s 98ms/step - loss: 0.7891 - accuracy: 0.5005 - val_loss: 0.6931 - val_accuracy: 0.5000\n",
      "Epoch 4/30\n",
      "100/100 [==============================] - 10s 99ms/step - loss: 0.7292 - accuracy: 0.5020 - val_loss: 0.6929 - val_accuracy: 0.5000\n",
      "Epoch 5/30\n",
      "100/100 [==============================] - 10s 100ms/step - loss: 0.7043 - accuracy: 0.4930 - val_loss: 0.6932 - val_accuracy: 0.5000\n",
      "Epoch 6/30\n",
      "100/100 [==============================] - 10s 99ms/step - loss: 0.7724 - accuracy: 0.5000 - val_loss: 0.6931 - val_accuracy: 0.5000\n",
      "Epoch 7/30\n",
      "100/100 [==============================] - 10s 98ms/step - loss: 0.7253 - accuracy: 0.4995 - val_loss: 0.6931 - val_accuracy: 0.5000\n",
      "Epoch 8/30\n",
      "100/100 [==============================] - 12s 121ms/step - loss: 0.7115 - accuracy: 0.4945 - val_loss: 0.6929 - val_accuracy: 0.5000\n",
      "Epoch 9/30\n",
      "100/100 [==============================] - 10s 99ms/step - loss: 0.7091 - accuracy: 0.4785 - val_loss: 0.6931 - val_accuracy: 0.5000\n",
      "Epoch 10/30\n",
      "100/100 [==============================] - 10s 99ms/step - loss: 0.6973 - accuracy: 0.4775 - val_loss: 0.6931 - val_accuracy: 0.5010\n",
      "Epoch 11/30\n",
      "100/100 [==============================] - 10s 100ms/step - loss: 0.6943 - accuracy: 0.4905 - val_loss: 0.6931 - val_accuracy: 0.5000\n",
      "Epoch 12/30\n",
      "100/100 [==============================] - 10s 98ms/step - loss: 0.7157 - accuracy: 0.4915 - val_loss: 0.6931 - val_accuracy: 0.5000\n",
      "Epoch 13/30\n",
      "100/100 [==============================] - 10s 98ms/step - loss: 0.6936 - accuracy: 0.4950 - val_loss: 0.6930 - val_accuracy: 0.5000\n",
      "Epoch 14/30\n",
      "100/100 [==============================] - 10s 99ms/step - loss: 0.6932 - accuracy: 0.4895 - val_loss: 0.6929 - val_accuracy: 0.5020\n",
      "Epoch 15/30\n",
      "100/100 [==============================] - 10s 100ms/step - loss: 0.6950 - accuracy: 0.5005 - val_loss: 0.6929 - val_accuracy: 0.5020\n",
      "Epoch 16/30\n",
      "100/100 [==============================] - 10s 100ms/step - loss: 0.6967 - accuracy: 0.5005 - val_loss: 0.6938 - val_accuracy: 0.5030\n",
      "Epoch 17/30\n",
      "100/100 [==============================] - 10s 98ms/step - loss: 0.7072 - accuracy: 0.5055 - val_loss: 0.6930 - val_accuracy: 0.5020\n",
      "Epoch 18/30\n",
      "100/100 [==============================] - 10s 99ms/step - loss: 0.7053 - accuracy: 0.4975 - val_loss: 0.6930 - val_accuracy: 0.5020\n",
      "Epoch 19/30\n",
      "100/100 [==============================] - 10s 99ms/step - loss: 0.7331 - accuracy: 0.4905 - val_loss: 0.6938 - val_accuracy: 0.5030\n",
      "Epoch 20/30\n",
      "100/100 [==============================] - 10s 100ms/step - loss: 0.7312 - accuracy: 0.4905 - val_loss: 0.6933 - val_accuracy: 0.5080\n",
      "Epoch 21/30\n",
      "100/100 [==============================] - 10s 100ms/step - loss: 0.7089 - accuracy: 0.5030 - val_loss: 0.6940 - val_accuracy: 0.5090\n",
      "Epoch 22/30\n",
      "100/100 [==============================] - 10s 100ms/step - loss: 0.6944 - accuracy: 0.5025 - val_loss: 0.6948 - val_accuracy: 0.5000\n",
      "Epoch 23/30\n",
      "100/100 [==============================] - 10s 98ms/step - loss: 0.6941 - accuracy: 0.5030 - val_loss: 0.7096 - val_accuracy: 0.5140\n",
      "Epoch 24/30\n",
      "100/100 [==============================] - 10s 98ms/step - loss: 0.7023 - accuracy: 0.5030 - val_loss: 0.6935 - val_accuracy: 0.5110\n",
      "Epoch 25/30\n",
      "100/100 [==============================] - 10s 99ms/step - loss: 0.7205 - accuracy: 0.5035 - val_loss: 0.6935 - val_accuracy: 0.5110\n",
      "Epoch 26/30\n",
      "100/100 [==============================] - 10s 100ms/step - loss: 0.7090 - accuracy: 0.5055 - val_loss: 0.6938 - val_accuracy: 0.5090\n",
      "Epoch 27/30\n",
      "100/100 [==============================] - 10s 99ms/step - loss: 0.6993 - accuracy: 0.5025 - val_loss: 0.6930 - val_accuracy: 0.5010\n",
      "Epoch 28/30\n",
      "100/100 [==============================] - 10s 99ms/step - loss: 0.7146 - accuracy: 0.5050 - val_loss: 0.6930 - val_accuracy: 0.5020\n",
      "Epoch 29/30\n",
      "100/100 [==============================] - 10s 99ms/step - loss: 0.6962 - accuracy: 0.5025 - val_loss: 0.6927 - val_accuracy: 0.5070\n",
      "Epoch 30/30\n",
      "100/100 [==============================] - 10s 99ms/step - loss: 0.7029 - accuracy: 0.5100 - val_loss: 0.6908 - val_accuracy: 0.5140\n"
     ]
    }
   ],
   "source": [
    "history = model1.fit(\n",
    "      train_generator,\n",
    "      epochs = 30,\n",
    "      validation_data = validation_generator,\n",
    "      steps_per_epoch = 100,\n",
    "      validation_steps = 50,\n",
    "      verbose = 1\n",
    ")"
   ]
  },
  {
   "cell_type": "code",
   "execution_count": 22,
   "metadata": {
    "id": "z6DnueQHzDfn"
   },
   "outputs": [],
   "source": [
    "model2 = tf.keras.models.Sequential([\n",
    "                    tf.keras.layers.Conv2D(32,(3,3), activation = 'relu', input_shape = (150,150,3)),\n",
    "                    tf.keras.layers.MaxPooling2D(2,2),\n",
    "                    tf.keras.layers.Conv2D(64,(3,3), activation = 'relu'),\n",
    "                    tf.keras.layers.MaxPooling2D(2,2),\n",
    "                    tf.keras.layers.Conv2D(128,(3,3), activation = 'relu'),\n",
    "                    tf.keras.layers.MaxPooling2D(2,2),\n",
    "                    tf.keras.layers.Conv2D(128,(3,3), activation = 'relu'),\n",
    "                    tf.keras.layers.MaxPooling2D(2,2),\n",
    "                    tf.keras.layers.Dropout(0.5),\n",
    "                    tf.keras.layers.Flatten(),\n",
    "                    tf.keras.layers.Dense(512,activation = 'relu'),\n",
    "                    tf.keras.layers.Dense(1,activation = 'sigmoid')\n",
    "])"
   ]
  },
  {
   "cell_type": "code",
   "execution_count": 23,
   "metadata": {
    "colab": {
     "base_uri": "https://localhost:8080/"
    },
    "id": "pxkFWM11wUSc",
    "outputId": "3eebd431-d770-4bc4-cad7-6405593fdb26"
   },
   "outputs": [
    {
     "name": "stdout",
     "output_type": "stream",
     "text": [
      "Model: \"sequential_4\"\n",
      "_________________________________________________________________\n",
      "Layer (type)                 Output Shape              Param #   \n",
      "=================================================================\n",
      "conv2d_7 (Conv2D)            (None, 148, 148, 32)      896       \n",
      "_________________________________________________________________\n",
      "max_pooling2d_7 (MaxPooling2 (None, 74, 74, 32)        0         \n",
      "_________________________________________________________________\n",
      "conv2d_8 (Conv2D)            (None, 72, 72, 64)        18496     \n",
      "_________________________________________________________________\n",
      "max_pooling2d_8 (MaxPooling2 (None, 36, 36, 64)        0         \n",
      "_________________________________________________________________\n",
      "conv2d_9 (Conv2D)            (None, 34, 34, 128)       73856     \n",
      "_________________________________________________________________\n",
      "max_pooling2d_9 (MaxPooling2 (None, 17, 17, 128)       0         \n",
      "_________________________________________________________________\n",
      "conv2d_10 (Conv2D)           (None, 15, 15, 128)       147584    \n",
      "_________________________________________________________________\n",
      "max_pooling2d_10 (MaxPooling (None, 7, 7, 128)         0         \n",
      "_________________________________________________________________\n",
      "dropout_5 (Dropout)          (None, 7, 7, 128)         0         \n",
      "_________________________________________________________________\n",
      "flatten_4 (Flatten)          (None, 6272)              0         \n",
      "_________________________________________________________________\n",
      "dense_11 (Dense)             (None, 512)               3211776   \n",
      "_________________________________________________________________\n",
      "dense_12 (Dense)             (None, 1)                 513       \n",
      "=================================================================\n",
      "Total params: 3,453,121\n",
      "Trainable params: 3,453,121\n",
      "Non-trainable params: 0\n",
      "_________________________________________________________________\n"
     ]
    }
   ],
   "source": [
    "model2.summary()"
   ]
  },
  {
   "cell_type": "code",
   "execution_count": 26,
   "metadata": {
    "id": "DEjR5lNZ0yoC"
   },
   "outputs": [],
   "source": [
    "model2.compile(loss = 'binary_crossentropy',\n",
    "               optimizer = RMSprop(learning_rate=1e-4),\n",
    "               metrics = ['accuracy'])"
   ]
  },
  {
   "cell_type": "code",
   "execution_count": 28,
   "metadata": {
    "colab": {
     "base_uri": "https://localhost:8080/"
    },
    "id": "Un0ThbgQ2DFb",
    "outputId": "bd806086-4e38-4323-eb9c-2803a2c14cf1"
   },
   "outputs": [
    {
     "name": "stdout",
     "output_type": "stream",
     "text": [
      "Epoch 1/20\n",
      "100/100 [==============================] - 12s 115ms/step - loss: 0.6900 - accuracy: 0.5390 - val_loss: 0.6723 - val_accuracy: 0.5910\n",
      "Epoch 2/20\n",
      "100/100 [==============================] - 11s 112ms/step - loss: 0.6747 - accuracy: 0.5790 - val_loss: 0.6517 - val_accuracy: 0.6160\n",
      "Epoch 3/20\n",
      "100/100 [==============================] - 11s 112ms/step - loss: 0.6562 - accuracy: 0.5995 - val_loss: 0.6427 - val_accuracy: 0.6450\n",
      "Epoch 4/20\n",
      "100/100 [==============================] - 11s 112ms/step - loss: 0.6239 - accuracy: 0.6515 - val_loss: 0.6456 - val_accuracy: 0.6190\n",
      "Epoch 5/20\n",
      "100/100 [==============================] - 11s 111ms/step - loss: 0.5919 - accuracy: 0.6795 - val_loss: 0.6090 - val_accuracy: 0.6780\n",
      "Epoch 6/20\n",
      "100/100 [==============================] - 11s 111ms/step - loss: 0.5615 - accuracy: 0.7235 - val_loss: 0.5722 - val_accuracy: 0.7090\n",
      "Epoch 7/20\n",
      "100/100 [==============================] - 11s 111ms/step - loss: 0.5281 - accuracy: 0.7390 - val_loss: 0.6397 - val_accuracy: 0.6540\n",
      "Epoch 8/20\n",
      "100/100 [==============================] - 11s 111ms/step - loss: 0.5100 - accuracy: 0.7395 - val_loss: 0.5628 - val_accuracy: 0.7050\n",
      "Epoch 9/20\n",
      "100/100 [==============================] - 11s 111ms/step - loss: 0.4803 - accuracy: 0.7710 - val_loss: 0.5881 - val_accuracy: 0.7000\n",
      "Epoch 10/20\n",
      "100/100 [==============================] - 11s 112ms/step - loss: 0.4689 - accuracy: 0.7675 - val_loss: 0.5841 - val_accuracy: 0.7050\n",
      "Epoch 11/20\n",
      "100/100 [==============================] - 11s 113ms/step - loss: 0.4492 - accuracy: 0.7910 - val_loss: 0.5493 - val_accuracy: 0.7310\n",
      "Epoch 12/20\n",
      "100/100 [==============================] - 11s 112ms/step - loss: 0.4352 - accuracy: 0.7960 - val_loss: 0.5403 - val_accuracy: 0.7260\n",
      "Epoch 13/20\n",
      "100/100 [==============================] - 11s 112ms/step - loss: 0.4119 - accuracy: 0.8175 - val_loss: 0.5267 - val_accuracy: 0.7370\n",
      "Epoch 14/20\n",
      "100/100 [==============================] - 11s 111ms/step - loss: 0.3958 - accuracy: 0.8285 - val_loss: 0.5580 - val_accuracy: 0.7140\n",
      "Epoch 15/20\n",
      "100/100 [==============================] - 11s 114ms/step - loss: 0.3749 - accuracy: 0.8340 - val_loss: 0.5237 - val_accuracy: 0.7460\n",
      "Epoch 16/20\n",
      "100/100 [==============================] - 11s 114ms/step - loss: 0.3620 - accuracy: 0.8400 - val_loss: 0.5146 - val_accuracy: 0.7460\n",
      "Epoch 17/20\n",
      "100/100 [==============================] - 11s 114ms/step - loss: 0.3494 - accuracy: 0.8480 - val_loss: 0.5448 - val_accuracy: 0.7330\n",
      "Epoch 18/20\n",
      "100/100 [==============================] - 11s 113ms/step - loss: 0.3239 - accuracy: 0.8650 - val_loss: 0.5294 - val_accuracy: 0.7310\n",
      "Epoch 19/20\n",
      "100/100 [==============================] - 11s 112ms/step - loss: 0.3237 - accuracy: 0.8570 - val_loss: 0.5193 - val_accuracy: 0.7590\n",
      "Epoch 20/20\n",
      "100/100 [==============================] - 11s 112ms/step - loss: 0.2984 - accuracy: 0.8715 - val_loss: 0.5431 - val_accuracy: 0.7550\n"
     ]
    }
   ],
   "source": [
    "history = model2.fit(\n",
    "    train_generator,\n",
    "    epochs = 20,\n",
    "    validation_data = validation_generator,\n",
    "    steps_per_epoch = 100,\n",
    "    validation_steps = 50,\n",
    "    verbose = 1\n",
    ")"
   ]
  }
 ],
 "metadata": {
  "accelerator": "GPU",
  "colab": {
   "collapsed_sections": [],
   "name": "Untitled9.ipynb",
   "provenance": []
  },
  "kernelspec": {
   "display_name": "Python 3",
   "language": "python",
   "name": "python3"
  },
  "language_info": {
   "codemirror_mode": {
    "name": "ipython",
    "version": 3
   },
   "file_extension": ".py",
   "mimetype": "text/x-python",
   "name": "python",
   "nbconvert_exporter": "python",
   "pygments_lexer": "ipython3",
   "version": "3.8.5"
  }
 },
 "nbformat": 4,
 "nbformat_minor": 1
}
