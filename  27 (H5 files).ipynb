{
 "cells": [
  {
   "cell_type": "code",
   "execution_count": 1,
   "id": "2e30d1e7",
   "metadata": {},
   "outputs": [],
   "source": [
    "import numpy as np\n",
    "import matplotlib.pyplot as plt\n",
    "import h5py\n",
    "from PIL import Image\n",
    "from scipy import ndimage"
   ]
  },
  {
   "cell_type": "code",
   "execution_count": 5,
   "id": "1f0b2a46",
   "metadata": {},
   "outputs": [
    {
     "name": "stdout",
     "output_type": "stream",
     "text": [
      "['list_classes', 'train_set_x', 'train_set_y']\n",
      "(209, 64, 64, 3)\n",
      "(209,)\n"
     ]
    },
    {
     "name": "stderr",
     "output_type": "stream",
     "text": [
      "<ipython-input-5-810b6a4c0f96>:1: H5pyDeprecationWarning: The default file mode will change to 'r' (read-only) in h5py 3.0. To suppress this warning, pass the mode you need to h5py.File(), or set the global default h5.get_config().default_file_mode, or set the environment variable H5PY_DEFAULT_READONLY=1. Available modes are: 'r', 'r+', 'w', 'w-'/'x', 'a'. See the docs for details.\n",
      "  with h5py.File('train_catvnoncat.h5') as hdf:\n"
     ]
    }
   ],
   "source": [
    "with h5py.File('train_catvnoncat.h5') as hdf:\n",
    "    ls = list(hdf.keys())\n",
    "    print(ls)\n",
    "    train_set_x = np.array(hdf.get('train_set_x'))\n",
    "    train_set_y = np.array(hdf.get('train_set_y'))\n",
    "    \n",
    "    print(train_set_x.shape)\n",
    "    print(train_set_y.shape)"
   ]
  },
  {
   "cell_type": "code",
   "execution_count": 6,
   "id": "eb666650",
   "metadata": {},
   "outputs": [
    {
     "name": "stdout",
     "output_type": "stream",
     "text": [
      "['list_classes', 'test_set_x', 'test_set_y']\n",
      "(50, 64, 64, 3)\n",
      "(50,)\n"
     ]
    },
    {
     "name": "stderr",
     "output_type": "stream",
     "text": [
      "<ipython-input-6-d7f91641d768>:1: H5pyDeprecationWarning: The default file mode will change to 'r' (read-only) in h5py 3.0. To suppress this warning, pass the mode you need to h5py.File(), or set the global default h5.get_config().default_file_mode, or set the environment variable H5PY_DEFAULT_READONLY=1. Available modes are: 'r', 'r+', 'w', 'w-'/'x', 'a'. See the docs for details.\n",
      "  with h5py.File('test_catvnoncat.h5') as hdf:\n"
     ]
    }
   ],
   "source": [
    "with h5py.File('test_catvnoncat.h5') as hdf:\n",
    "    ls = list(hdf.keys())\n",
    "    print(ls)\n",
    "    test_set_x = np.array(hdf.get('test_set_x'))\n",
    "    test_set_y = np.array(hdf.get('test_set_y'))\n",
    "    \n",
    "    print(test_set_x.shape)\n",
    "    print(test_set_y.shape)"
   ]
  },
  {
   "cell_type": "code",
   "execution_count": 8,
   "id": "4556d2d3",
   "metadata": {},
   "outputs": [
    {
     "name": "stdout",
     "output_type": "stream",
     "text": [
      "Number of training examples: m_train = 209\n",
      "Number of testing examples: m_test = 50\n",
      "Height/Width of each image: num_px = 64\n",
      "Each image is of size: (64, 64, 3)\n",
      "train_set_x shape: (209, 64, 64, 3)\n",
      "train_set_y shape: (1, 209)\n",
      "test_set_x shape: (50, 64, 64, 3)\n",
      "test_set_y shape: (1, 50)\n"
     ]
    }
   ],
   "source": [
    "m_train = train_set_x.shape[0]\n",
    "m_test = test_set_x.shape[0]\n",
    "num_px = train_set_x.shape[1]\n",
    "\n",
    "train_set_y.shape = (1,m_train)\n",
    "test_set_y.shape = (1,m_test)\n",
    "\n",
    "print (\"Number of training examples: m_train = \" + str(m_train))\n",
    "print (\"Number of testing examples: m_test = \" + str(m_test))\n",
    "print (\"Height/Width of each image: num_px = \" + str(num_px))\n",
    "print (\"Each image is of size: (\" + str(num_px) + \", \" + str(num_px) + \", 3)\")\n",
    "print (\"train_set_x shape: \" + str(train_set_x.shape))\n",
    "print (\"train_set_y shape: \" + str(train_set_y.shape))\n",
    "print (\"test_set_x shape: \" + str(test_set_x.shape))\n",
    "print (\"test_set_y shape: \" + str(test_set_y.shape))"
   ]
  },
  {
   "cell_type": "code",
   "execution_count": 9,
   "id": "3cfb8862",
   "metadata": {},
   "outputs": [
    {
     "name": "stdout",
     "output_type": "stream",
     "text": [
      "train_set_x_dl shape: (12288, 209)\n",
      "train_set_y shape: (1, 209)\n",
      "test_set_x_dl shape: (12288, 50)\n",
      "test_set_y shape: (1, 50)\n"
     ]
    }
   ],
   "source": [
    "# for a neural network\n",
    "train_set_x_dl = train_set_x.reshape(num_px*num_px*3, m_train)\n",
    "test_set_x_dl = test_set_x.reshape(num_px*num_px*3, m_test)\n",
    "\n",
    "print (\"train_set_x_dl shape: \" + str(train_set_x_dl.shape))\n",
    "print (\"train_set_y shape: \" + str(train_set_y.shape))\n",
    "print (\"test_set_x_dl shape: \" + str(test_set_x_dl.shape))\n",
    "print (\"test_set_y shape: \" + str(test_set_y.shape))"
   ]
  },
  {
   "cell_type": "code",
   "execution_count": 10,
   "id": "031c1874",
   "metadata": {},
   "outputs": [
    {
     "name": "stdout",
     "output_type": "stream",
     "text": [
      "train_set_x_ml shape: (209, 12288)\n",
      "train_set_y_ml shape: (209, 1)\n",
      "test_set_x_ml shape: (50, 12288)\n",
      "test_set_y_ml shape: (50, 1)\n"
     ]
    }
   ],
   "source": [
    "# for a machgine learning algo\n",
    "train_set_x_ml = train_set_x.reshape(m_train,num_px*num_px*3)\n",
    "test_set_x_ml = test_set_x.reshape(m_test, num_px*num_px*3)\n",
    "train_set_y_ml = train_set_y.T\n",
    "test_set_y_ml = test_set_y.T\n",
    "\n",
    "print (\"train_set_x_ml shape: \" + str(train_set_x_ml.shape))\n",
    "print (\"train_set_y_ml shape: \" + str(train_set_y_ml.shape))\n",
    "print (\"test_set_x_ml shape: \" + str(test_set_x_ml.shape))\n",
    "print (\"test_set_y_ml shape: \" + str(test_set_y_ml.shape))"
   ]
  },
  {
   "cell_type": "code",
   "execution_count": 17,
   "id": "a9acc637",
   "metadata": {},
   "outputs": [
    {
     "name": "stderr",
     "output_type": "stream",
     "text": [
      "<ipython-input-17-d919c4955ab8>:3: DataConversionWarning: A column-vector y was passed when a 1d array was expected. Please change the shape of y to (n_samples,), for example using ravel().\n",
      "  rf_classifier.fit(train_set_x_ml,train_set_y_ml)\n"
     ]
    },
    {
     "data": {
      "text/plain": [
       "RandomForestClassifier(criterion='entropy', max_depth=5, n_estimators=5,\n",
       "                       random_state=14)"
      ]
     },
     "execution_count": 17,
     "metadata": {},
     "output_type": "execute_result"
    }
   ],
   "source": [
    "from sklearn.ensemble import RandomForestClassifier\n",
    "rf_classifier = RandomForestClassifier(n_estimators = 5, criterion = 'entropy',max_depth = 5, random_state =14)\n",
    "rf_classifier.fit(train_set_x_ml,train_set_y_ml)"
   ]
  },
  {
   "cell_type": "code",
   "execution_count": 18,
   "id": "67568c36",
   "metadata": {},
   "outputs": [
    {
     "name": "stdout",
     "output_type": "stream",
     "text": [
      "Training Accuracy : 0.9330143540669856\n",
      "Testing Accuracy : 0.58\n"
     ]
    }
   ],
   "source": [
    "from sklearn.metrics import accuracy_score\n",
    "pred_train = rf_classifier.predict(train_set_x_ml)\n",
    "pred_test = rf_classifier.predict(test_set_x_ml)\n",
    "print(\"Training Accuracy :\", accuracy_score(pred_train,train_set_y_ml))\n",
    "print(\"Testing Accuracy :\", accuracy_score(pred_test,test_set_y_ml))"
   ]
  },
  {
   "cell_type": "code",
   "execution_count": null,
   "id": "0abc47cd",
   "metadata": {},
   "outputs": [],
   "source": []
  },
  {
   "cell_type": "code",
   "execution_count": null,
   "id": "396120d1",
   "metadata": {},
   "outputs": [],
   "source": []
  }
 ],
 "metadata": {
  "kernelspec": {
   "display_name": "Python 3",
   "language": "python",
   "name": "python3"
  },
  "language_info": {
   "codemirror_mode": {
    "name": "ipython",
    "version": 3
   },
   "file_extension": ".py",
   "mimetype": "text/x-python",
   "name": "python",
   "nbconvert_exporter": "python",
   "pygments_lexer": "ipython3",
   "version": "3.8.5"
  }
 },
 "nbformat": 4,
 "nbformat_minor": 5
}
